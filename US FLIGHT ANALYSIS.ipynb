{
 "cells": [
  {
   "cell_type": "markdown",
   "metadata": {},
   "source": [
    "# Analisis kali ini dilakukan terhadap data penerbangan US pada tahun 2008. Prosedur analisis sebagai berikut\n",
    "1. Load library yang dibutuhkan\n",
    "2. Import Data\n",
    "3. Data Exploration\n",
    "4. Predictive Modeling\n",
    "\n"
   ]
  },
  {
   "cell_type": "markdown",
   "metadata": {},
   "source": [
    "# 1. Load library"
   ]
  },
  {
   "cell_type": "code",
   "execution_count": 57,
   "metadata": {},
   "outputs": [],
   "source": [
    "#load library\n",
    "library(dplyr)\n",
    "library(ggplot2)"
   ]
  },
  {
   "cell_type": "markdown",
   "metadata": {},
   "source": [
    "# 2. Import Data "
   ]
  },
  {
   "cell_type": "code",
   "execution_count": 58,
   "metadata": {},
   "outputs": [
    {
     "data": {
      "text/html": [
       "<table>\n",
       "<caption>A data.frame: 15 × 15</caption>\n",
       "<thead>\n",
       "\t<tr><th scope=col>Year</th><th scope=col>Month</th><th scope=col>DayofMonth</th><th scope=col>DayOfWeek</th><th scope=col>DepTime</th><th scope=col>CRSDepTime</th><th scope=col>ArrTime</th><th scope=col>CRSArrTime</th><th scope=col>UniqueCarrier</th><th scope=col>FlightNum</th><th scope=col>TailNum</th><th scope=col>ActualElapsedTime</th><th scope=col>CRSElapsedTime</th><th scope=col>AirTime</th><th scope=col>ArrDelay</th></tr>\n",
       "\t<tr><th scope=col>&lt;int&gt;</th><th scope=col>&lt;int&gt;</th><th scope=col>&lt;int&gt;</th><th scope=col>&lt;int&gt;</th><th scope=col>&lt;int&gt;</th><th scope=col>&lt;int&gt;</th><th scope=col>&lt;int&gt;</th><th scope=col>&lt;int&gt;</th><th scope=col>&lt;fct&gt;</th><th scope=col>&lt;int&gt;</th><th scope=col>&lt;fct&gt;</th><th scope=col>&lt;int&gt;</th><th scope=col>&lt;int&gt;</th><th scope=col>&lt;int&gt;</th><th scope=col>&lt;int&gt;</th></tr>\n",
       "</thead>\n",
       "<tbody>\n",
       "\t<tr><td>2008</td><td>1</td><td>3</td><td>4</td><td>2003</td><td>1955</td><td>2211</td><td>2225</td><td>WN</td><td> 335</td><td>N712SW</td><td>128</td><td>150</td><td>116</td><td>-14</td></tr>\n",
       "\t<tr><td>2008</td><td>1</td><td>3</td><td>4</td><td> 754</td><td> 735</td><td>1002</td><td>1000</td><td>WN</td><td>3231</td><td>N772SW</td><td>128</td><td>145</td><td>113</td><td>  2</td></tr>\n",
       "\t<tr><td>2008</td><td>1</td><td>3</td><td>4</td><td> 628</td><td> 620</td><td> 804</td><td> 750</td><td>WN</td><td> 448</td><td>N428WN</td><td> 96</td><td> 90</td><td> 76</td><td> 14</td></tr>\n",
       "\t<tr><td>2008</td><td>1</td><td>3</td><td>4</td><td> 926</td><td> 930</td><td>1054</td><td>1100</td><td>WN</td><td>1746</td><td>N612SW</td><td> 88</td><td> 90</td><td> 78</td><td> -6</td></tr>\n",
       "\t<tr><td>2008</td><td>1</td><td>3</td><td>4</td><td>1829</td><td>1755</td><td>1959</td><td>1925</td><td>WN</td><td>3920</td><td>N464WN</td><td> 90</td><td> 90</td><td> 77</td><td> 34</td></tr>\n",
       "\t<tr><td>2008</td><td>1</td><td>3</td><td>4</td><td>1940</td><td>1915</td><td>2121</td><td>2110</td><td>WN</td><td> 378</td><td>N726SW</td><td>101</td><td>115</td><td> 87</td><td> 11</td></tr>\n",
       "\t<tr><td>2008</td><td>1</td><td>3</td><td>4</td><td>1937</td><td>1830</td><td>2037</td><td>1940</td><td>WN</td><td> 509</td><td>N763SW</td><td>240</td><td>250</td><td>230</td><td> 57</td></tr>\n",
       "\t<tr><td>2008</td><td>1</td><td>3</td><td>4</td><td>1039</td><td>1040</td><td>1132</td><td>1150</td><td>WN</td><td> 535</td><td>N428WN</td><td>233</td><td>250</td><td>219</td><td>-18</td></tr>\n",
       "\t<tr><td>2008</td><td>1</td><td>3</td><td>4</td><td> 617</td><td> 615</td><td> 652</td><td> 650</td><td>WN</td><td>  11</td><td>N689SW</td><td> 95</td><td> 95</td><td> 70</td><td>  2</td></tr>\n",
       "\t<tr><td>2008</td><td>1</td><td>3</td><td>4</td><td>1620</td><td>1620</td><td>1639</td><td>1655</td><td>WN</td><td> 810</td><td>N648SW</td><td> 79</td><td> 95</td><td> 70</td><td>-16</td></tr>\n",
       "\t<tr><td>2008</td><td>1</td><td>3</td><td>4</td><td> 706</td><td> 700</td><td> 916</td><td> 915</td><td>WN</td><td> 100</td><td>N690SW</td><td>130</td><td>135</td><td>106</td><td>  1</td></tr>\n",
       "\t<tr><td>2008</td><td>1</td><td>3</td><td>4</td><td>1644</td><td>1510</td><td>1845</td><td>1725</td><td>WN</td><td>1333</td><td>N334SW</td><td>121</td><td>135</td><td>107</td><td> 80</td></tr>\n",
       "\t<tr><td>2008</td><td>1</td><td>3</td><td>4</td><td>1426</td><td>1430</td><td>1426</td><td>1425</td><td>WN</td><td> 829</td><td>N476WN</td><td> 60</td><td> 55</td><td> 39</td><td>  1</td></tr>\n",
       "\t<tr><td>2008</td><td>1</td><td>3</td><td>4</td><td> 715</td><td> 715</td><td> 720</td><td> 710</td><td>WN</td><td>1016</td><td>N765SW</td><td> 65</td><td> 55</td><td> 37</td><td> 10</td></tr>\n",
       "\t<tr><td>2008</td><td>1</td><td>3</td><td>4</td><td>1702</td><td>1700</td><td>1651</td><td>1655</td><td>WN</td><td>1827</td><td>N420WN</td><td> 49</td><td> 55</td><td> 35</td><td> -4</td></tr>\n",
       "</tbody>\n",
       "</table>\n"
      ],
      "text/latex": [
       "A data.frame: 15 × 15\n",
       "\\begin{tabular}{r|lllllllllllllll}\n",
       " Year & Month & DayofMonth & DayOfWeek & DepTime & CRSDepTime & ArrTime & CRSArrTime & UniqueCarrier & FlightNum & TailNum & ActualElapsedTime & CRSElapsedTime & AirTime & ArrDelay\\\\\n",
       " <int> & <int> & <int> & <int> & <int> & <int> & <int> & <int> & <fct> & <int> & <fct> & <int> & <int> & <int> & <int>\\\\\n",
       "\\hline\n",
       "\t 2008 & 1 & 3 & 4 & 2003 & 1955 & 2211 & 2225 & WN &  335 & N712SW & 128 & 150 & 116 & -14\\\\\n",
       "\t 2008 & 1 & 3 & 4 &  754 &  735 & 1002 & 1000 & WN & 3231 & N772SW & 128 & 145 & 113 &   2\\\\\n",
       "\t 2008 & 1 & 3 & 4 &  628 &  620 &  804 &  750 & WN &  448 & N428WN &  96 &  90 &  76 &  14\\\\\n",
       "\t 2008 & 1 & 3 & 4 &  926 &  930 & 1054 & 1100 & WN & 1746 & N612SW &  88 &  90 &  78 &  -6\\\\\n",
       "\t 2008 & 1 & 3 & 4 & 1829 & 1755 & 1959 & 1925 & WN & 3920 & N464WN &  90 &  90 &  77 &  34\\\\\n",
       "\t 2008 & 1 & 3 & 4 & 1940 & 1915 & 2121 & 2110 & WN &  378 & N726SW & 101 & 115 &  87 &  11\\\\\n",
       "\t 2008 & 1 & 3 & 4 & 1937 & 1830 & 2037 & 1940 & WN &  509 & N763SW & 240 & 250 & 230 &  57\\\\\n",
       "\t 2008 & 1 & 3 & 4 & 1039 & 1040 & 1132 & 1150 & WN &  535 & N428WN & 233 & 250 & 219 & -18\\\\\n",
       "\t 2008 & 1 & 3 & 4 &  617 &  615 &  652 &  650 & WN &   11 & N689SW &  95 &  95 &  70 &   2\\\\\n",
       "\t 2008 & 1 & 3 & 4 & 1620 & 1620 & 1639 & 1655 & WN &  810 & N648SW &  79 &  95 &  70 & -16\\\\\n",
       "\t 2008 & 1 & 3 & 4 &  706 &  700 &  916 &  915 & WN &  100 & N690SW & 130 & 135 & 106 &   1\\\\\n",
       "\t 2008 & 1 & 3 & 4 & 1644 & 1510 & 1845 & 1725 & WN & 1333 & N334SW & 121 & 135 & 107 &  80\\\\\n",
       "\t 2008 & 1 & 3 & 4 & 1426 & 1430 & 1426 & 1425 & WN &  829 & N476WN &  60 &  55 &  39 &   1\\\\\n",
       "\t 2008 & 1 & 3 & 4 &  715 &  715 &  720 &  710 & WN & 1016 & N765SW &  65 &  55 &  37 &  10\\\\\n",
       "\t 2008 & 1 & 3 & 4 & 1702 & 1700 & 1651 & 1655 & WN & 1827 & N420WN &  49 &  55 &  35 &  -4\\\\\n",
       "\\end{tabular}\n"
      ],
      "text/markdown": [
       "\n",
       "A data.frame: 15 × 15\n",
       "\n",
       "| Year &lt;int&gt; | Month &lt;int&gt; | DayofMonth &lt;int&gt; | DayOfWeek &lt;int&gt; | DepTime &lt;int&gt; | CRSDepTime &lt;int&gt; | ArrTime &lt;int&gt; | CRSArrTime &lt;int&gt; | UniqueCarrier &lt;fct&gt; | FlightNum &lt;int&gt; | TailNum &lt;fct&gt; | ActualElapsedTime &lt;int&gt; | CRSElapsedTime &lt;int&gt; | AirTime &lt;int&gt; | ArrDelay &lt;int&gt; |\n",
       "|---|---|---|---|---|---|---|---|---|---|---|---|---|---|---|\n",
       "| 2008 | 1 | 3 | 4 | 2003 | 1955 | 2211 | 2225 | WN |  335 | N712SW | 128 | 150 | 116 | -14 |\n",
       "| 2008 | 1 | 3 | 4 |  754 |  735 | 1002 | 1000 | WN | 3231 | N772SW | 128 | 145 | 113 |   2 |\n",
       "| 2008 | 1 | 3 | 4 |  628 |  620 |  804 |  750 | WN |  448 | N428WN |  96 |  90 |  76 |  14 |\n",
       "| 2008 | 1 | 3 | 4 |  926 |  930 | 1054 | 1100 | WN | 1746 | N612SW |  88 |  90 |  78 |  -6 |\n",
       "| 2008 | 1 | 3 | 4 | 1829 | 1755 | 1959 | 1925 | WN | 3920 | N464WN |  90 |  90 |  77 |  34 |\n",
       "| 2008 | 1 | 3 | 4 | 1940 | 1915 | 2121 | 2110 | WN |  378 | N726SW | 101 | 115 |  87 |  11 |\n",
       "| 2008 | 1 | 3 | 4 | 1937 | 1830 | 2037 | 1940 | WN |  509 | N763SW | 240 | 250 | 230 |  57 |\n",
       "| 2008 | 1 | 3 | 4 | 1039 | 1040 | 1132 | 1150 | WN |  535 | N428WN | 233 | 250 | 219 | -18 |\n",
       "| 2008 | 1 | 3 | 4 |  617 |  615 |  652 |  650 | WN |   11 | N689SW |  95 |  95 |  70 |   2 |\n",
       "| 2008 | 1 | 3 | 4 | 1620 | 1620 | 1639 | 1655 | WN |  810 | N648SW |  79 |  95 |  70 | -16 |\n",
       "| 2008 | 1 | 3 | 4 |  706 |  700 |  916 |  915 | WN |  100 | N690SW | 130 | 135 | 106 |   1 |\n",
       "| 2008 | 1 | 3 | 4 | 1644 | 1510 | 1845 | 1725 | WN | 1333 | N334SW | 121 | 135 | 107 |  80 |\n",
       "| 2008 | 1 | 3 | 4 | 1426 | 1430 | 1426 | 1425 | WN |  829 | N476WN |  60 |  55 |  39 |   1 |\n",
       "| 2008 | 1 | 3 | 4 |  715 |  715 |  720 |  710 | WN | 1016 | N765SW |  65 |  55 |  37 |  10 |\n",
       "| 2008 | 1 | 3 | 4 | 1702 | 1700 | 1651 | 1655 | WN | 1827 | N420WN |  49 |  55 |  35 |  -4 |\n",
       "\n"
      ],
      "text/plain": [
       "   Year Month DayofMonth DayOfWeek DepTime CRSDepTime ArrTime CRSArrTime\n",
       "1  2008 1     3          4         2003    1955       2211    2225      \n",
       "2  2008 1     3          4          754     735       1002    1000      \n",
       "3  2008 1     3          4          628     620        804     750      \n",
       "4  2008 1     3          4          926     930       1054    1100      \n",
       "5  2008 1     3          4         1829    1755       1959    1925      \n",
       "6  2008 1     3          4         1940    1915       2121    2110      \n",
       "7  2008 1     3          4         1937    1830       2037    1940      \n",
       "8  2008 1     3          4         1039    1040       1132    1150      \n",
       "9  2008 1     3          4          617     615        652     650      \n",
       "10 2008 1     3          4         1620    1620       1639    1655      \n",
       "11 2008 1     3          4          706     700        916     915      \n",
       "12 2008 1     3          4         1644    1510       1845    1725      \n",
       "13 2008 1     3          4         1426    1430       1426    1425      \n",
       "14 2008 1     3          4          715     715        720     710      \n",
       "15 2008 1     3          4         1702    1700       1651    1655      \n",
       "   UniqueCarrier FlightNum TailNum ActualElapsedTime CRSElapsedTime AirTime\n",
       "1  WN             335      N712SW  128               150            116    \n",
       "2  WN            3231      N772SW  128               145            113    \n",
       "3  WN             448      N428WN   96                90             76    \n",
       "4  WN            1746      N612SW   88                90             78    \n",
       "5  WN            3920      N464WN   90                90             77    \n",
       "6  WN             378      N726SW  101               115             87    \n",
       "7  WN             509      N763SW  240               250            230    \n",
       "8  WN             535      N428WN  233               250            219    \n",
       "9  WN              11      N689SW   95                95             70    \n",
       "10 WN             810      N648SW   79                95             70    \n",
       "11 WN             100      N690SW  130               135            106    \n",
       "12 WN            1333      N334SW  121               135            107    \n",
       "13 WN             829      N476WN   60                55             39    \n",
       "14 WN            1016      N765SW   65                55             37    \n",
       "15 WN            1827      N420WN   49                55             35    \n",
       "   ArrDelay\n",
       "1  -14     \n",
       "2    2     \n",
       "3   14     \n",
       "4   -6     \n",
       "5   34     \n",
       "6   11     \n",
       "7   57     \n",
       "8  -18     \n",
       "9    2     \n",
       "10 -16     \n",
       "11   1     \n",
       "12  80     \n",
       "13   1     \n",
       "14  10     \n",
       "15  -4     "
      ]
     },
     "metadata": {},
     "output_type": "display_data"
    },
    {
     "data": {
      "text/html": [
       "<table>\n",
       "<caption>A data.frame: 15 × 14</caption>\n",
       "<thead>\n",
       "\t<tr><th scope=col>DepDelay</th><th scope=col>Origin</th><th scope=col>Dest</th><th scope=col>Distance</th><th scope=col>TaxiIn</th><th scope=col>TaxiOut</th><th scope=col>Cancelled</th><th scope=col>CancellationCode</th><th scope=col>Diverted</th><th scope=col>CarrierDelay</th><th scope=col>WeatherDelay</th><th scope=col>NASDelay</th><th scope=col>SecurityDelay</th><th scope=col>LateAircraftDelay</th></tr>\n",
       "\t<tr><th scope=col>&lt;int&gt;</th><th scope=col>&lt;fct&gt;</th><th scope=col>&lt;fct&gt;</th><th scope=col>&lt;int&gt;</th><th scope=col>&lt;int&gt;</th><th scope=col>&lt;int&gt;</th><th scope=col>&lt;int&gt;</th><th scope=col>&lt;fct&gt;</th><th scope=col>&lt;int&gt;</th><th scope=col>&lt;int&gt;</th><th scope=col>&lt;int&gt;</th><th scope=col>&lt;int&gt;</th><th scope=col>&lt;int&gt;</th><th scope=col>&lt;int&gt;</th></tr>\n",
       "</thead>\n",
       "<tbody>\n",
       "\t<tr><td> 8</td><td>IAD</td><td>TPA</td><td> 810</td><td>4</td><td> 8</td><td>0</td><td></td><td>0</td><td>NA</td><td>NA</td><td>NA</td><td>NA</td><td>NA</td></tr>\n",
       "\t<tr><td>19</td><td>IAD</td><td>TPA</td><td> 810</td><td>5</td><td>10</td><td>0</td><td></td><td>0</td><td>NA</td><td>NA</td><td>NA</td><td>NA</td><td>NA</td></tr>\n",
       "\t<tr><td> 8</td><td>IND</td><td>BWI</td><td> 515</td><td>3</td><td>17</td><td>0</td><td></td><td>0</td><td>NA</td><td>NA</td><td>NA</td><td>NA</td><td>NA</td></tr>\n",
       "\t<tr><td>-4</td><td>IND</td><td>BWI</td><td> 515</td><td>3</td><td> 7</td><td>0</td><td></td><td>0</td><td>NA</td><td>NA</td><td>NA</td><td>NA</td><td>NA</td></tr>\n",
       "\t<tr><td>34</td><td>IND</td><td>BWI</td><td> 515</td><td>3</td><td>10</td><td>0</td><td></td><td>0</td><td> 2</td><td> 0</td><td> 0</td><td> 0</td><td>32</td></tr>\n",
       "\t<tr><td>25</td><td>IND</td><td>JAX</td><td> 688</td><td>4</td><td>10</td><td>0</td><td></td><td>0</td><td>NA</td><td>NA</td><td>NA</td><td>NA</td><td>NA</td></tr>\n",
       "\t<tr><td>67</td><td>IND</td><td>LAS</td><td>1591</td><td>3</td><td> 7</td><td>0</td><td></td><td>0</td><td>10</td><td> 0</td><td> 0</td><td> 0</td><td>47</td></tr>\n",
       "\t<tr><td>-1</td><td>IND</td><td>LAS</td><td>1591</td><td>7</td><td> 7</td><td>0</td><td></td><td>0</td><td>NA</td><td>NA</td><td>NA</td><td>NA</td><td>NA</td></tr>\n",
       "\t<tr><td> 2</td><td>IND</td><td>MCI</td><td> 451</td><td>6</td><td>19</td><td>0</td><td></td><td>0</td><td>NA</td><td>NA</td><td>NA</td><td>NA</td><td>NA</td></tr>\n",
       "\t<tr><td> 0</td><td>IND</td><td>MCI</td><td> 451</td><td>3</td><td> 6</td><td>0</td><td></td><td>0</td><td>NA</td><td>NA</td><td>NA</td><td>NA</td><td>NA</td></tr>\n",
       "\t<tr><td> 6</td><td>IND</td><td>MCO</td><td> 828</td><td>5</td><td>19</td><td>0</td><td></td><td>0</td><td>NA</td><td>NA</td><td>NA</td><td>NA</td><td>NA</td></tr>\n",
       "\t<tr><td>94</td><td>IND</td><td>MCO</td><td> 828</td><td>6</td><td> 8</td><td>0</td><td></td><td>0</td><td> 8</td><td> 0</td><td> 0</td><td> 0</td><td>72</td></tr>\n",
       "\t<tr><td>-4</td><td>IND</td><td>MDW</td><td> 162</td><td>9</td><td>12</td><td>0</td><td></td><td>0</td><td>NA</td><td>NA</td><td>NA</td><td>NA</td><td>NA</td></tr>\n",
       "\t<tr><td> 0</td><td>IND</td><td>MDW</td><td> 162</td><td>7</td><td>21</td><td>0</td><td></td><td>0</td><td>NA</td><td>NA</td><td>NA</td><td>NA</td><td>NA</td></tr>\n",
       "\t<tr><td> 2</td><td>IND</td><td>MDW</td><td> 162</td><td>4</td><td>10</td><td>0</td><td></td><td>0</td><td>NA</td><td>NA</td><td>NA</td><td>NA</td><td>NA</td></tr>\n",
       "</tbody>\n",
       "</table>\n"
      ],
      "text/latex": [
       "A data.frame: 15 × 14\n",
       "\\begin{tabular}{r|llllllllllllll}\n",
       " DepDelay & Origin & Dest & Distance & TaxiIn & TaxiOut & Cancelled & CancellationCode & Diverted & CarrierDelay & WeatherDelay & NASDelay & SecurityDelay & LateAircraftDelay\\\\\n",
       " <int> & <fct> & <fct> & <int> & <int> & <int> & <int> & <fct> & <int> & <int> & <int> & <int> & <int> & <int>\\\\\n",
       "\\hline\n",
       "\t  8 & IAD & TPA &  810 & 4 &  8 & 0 &  & 0 & NA & NA & NA & NA & NA\\\\\n",
       "\t 19 & IAD & TPA &  810 & 5 & 10 & 0 &  & 0 & NA & NA & NA & NA & NA\\\\\n",
       "\t  8 & IND & BWI &  515 & 3 & 17 & 0 &  & 0 & NA & NA & NA & NA & NA\\\\\n",
       "\t -4 & IND & BWI &  515 & 3 &  7 & 0 &  & 0 & NA & NA & NA & NA & NA\\\\\n",
       "\t 34 & IND & BWI &  515 & 3 & 10 & 0 &  & 0 &  2 &  0 &  0 &  0 & 32\\\\\n",
       "\t 25 & IND & JAX &  688 & 4 & 10 & 0 &  & 0 & NA & NA & NA & NA & NA\\\\\n",
       "\t 67 & IND & LAS & 1591 & 3 &  7 & 0 &  & 0 & 10 &  0 &  0 &  0 & 47\\\\\n",
       "\t -1 & IND & LAS & 1591 & 7 &  7 & 0 &  & 0 & NA & NA & NA & NA & NA\\\\\n",
       "\t  2 & IND & MCI &  451 & 6 & 19 & 0 &  & 0 & NA & NA & NA & NA & NA\\\\\n",
       "\t  0 & IND & MCI &  451 & 3 &  6 & 0 &  & 0 & NA & NA & NA & NA & NA\\\\\n",
       "\t  6 & IND & MCO &  828 & 5 & 19 & 0 &  & 0 & NA & NA & NA & NA & NA\\\\\n",
       "\t 94 & IND & MCO &  828 & 6 &  8 & 0 &  & 0 &  8 &  0 &  0 &  0 & 72\\\\\n",
       "\t -4 & IND & MDW &  162 & 9 & 12 & 0 &  & 0 & NA & NA & NA & NA & NA\\\\\n",
       "\t  0 & IND & MDW &  162 & 7 & 21 & 0 &  & 0 & NA & NA & NA & NA & NA\\\\\n",
       "\t  2 & IND & MDW &  162 & 4 & 10 & 0 &  & 0 & NA & NA & NA & NA & NA\\\\\n",
       "\\end{tabular}\n"
      ],
      "text/markdown": [
       "\n",
       "A data.frame: 15 × 14\n",
       "\n",
       "| DepDelay &lt;int&gt; | Origin &lt;fct&gt; | Dest &lt;fct&gt; | Distance &lt;int&gt; | TaxiIn &lt;int&gt; | TaxiOut &lt;int&gt; | Cancelled &lt;int&gt; | CancellationCode &lt;fct&gt; | Diverted &lt;int&gt; | CarrierDelay &lt;int&gt; | WeatherDelay &lt;int&gt; | NASDelay &lt;int&gt; | SecurityDelay &lt;int&gt; | LateAircraftDelay &lt;int&gt; |\n",
       "|---|---|---|---|---|---|---|---|---|---|---|---|---|---|\n",
       "|  8 | IAD | TPA |  810 | 4 |  8 | 0 | <!----> | 0 | NA | NA | NA | NA | NA |\n",
       "| 19 | IAD | TPA |  810 | 5 | 10 | 0 | <!----> | 0 | NA | NA | NA | NA | NA |\n",
       "|  8 | IND | BWI |  515 | 3 | 17 | 0 | <!----> | 0 | NA | NA | NA | NA | NA |\n",
       "| -4 | IND | BWI |  515 | 3 |  7 | 0 | <!----> | 0 | NA | NA | NA | NA | NA |\n",
       "| 34 | IND | BWI |  515 | 3 | 10 | 0 | <!----> | 0 |  2 |  0 |  0 |  0 | 32 |\n",
       "| 25 | IND | JAX |  688 | 4 | 10 | 0 | <!----> | 0 | NA | NA | NA | NA | NA |\n",
       "| 67 | IND | LAS | 1591 | 3 |  7 | 0 | <!----> | 0 | 10 |  0 |  0 |  0 | 47 |\n",
       "| -1 | IND | LAS | 1591 | 7 |  7 | 0 | <!----> | 0 | NA | NA | NA | NA | NA |\n",
       "|  2 | IND | MCI |  451 | 6 | 19 | 0 | <!----> | 0 | NA | NA | NA | NA | NA |\n",
       "|  0 | IND | MCI |  451 | 3 |  6 | 0 | <!----> | 0 | NA | NA | NA | NA | NA |\n",
       "|  6 | IND | MCO |  828 | 5 | 19 | 0 | <!----> | 0 | NA | NA | NA | NA | NA |\n",
       "| 94 | IND | MCO |  828 | 6 |  8 | 0 | <!----> | 0 |  8 |  0 |  0 |  0 | 72 |\n",
       "| -4 | IND | MDW |  162 | 9 | 12 | 0 | <!----> | 0 | NA | NA | NA | NA | NA |\n",
       "|  0 | IND | MDW |  162 | 7 | 21 | 0 | <!----> | 0 | NA | NA | NA | NA | NA |\n",
       "|  2 | IND | MDW |  162 | 4 | 10 | 0 | <!----> | 0 | NA | NA | NA | NA | NA |\n",
       "\n"
      ],
      "text/plain": [
       "   DepDelay Origin Dest Distance TaxiIn TaxiOut Cancelled CancellationCode\n",
       "1   8       IAD    TPA   810     4       8      0                         \n",
       "2  19       IAD    TPA   810     5      10      0                         \n",
       "3   8       IND    BWI   515     3      17      0                         \n",
       "4  -4       IND    BWI   515     3       7      0                         \n",
       "5  34       IND    BWI   515     3      10      0                         \n",
       "6  25       IND    JAX   688     4      10      0                         \n",
       "7  67       IND    LAS  1591     3       7      0                         \n",
       "8  -1       IND    LAS  1591     7       7      0                         \n",
       "9   2       IND    MCI   451     6      19      0                         \n",
       "10  0       IND    MCI   451     3       6      0                         \n",
       "11  6       IND    MCO   828     5      19      0                         \n",
       "12 94       IND    MCO   828     6       8      0                         \n",
       "13 -4       IND    MDW   162     9      12      0                         \n",
       "14  0       IND    MDW   162     7      21      0                         \n",
       "15  2       IND    MDW   162     4      10      0                         \n",
       "   Diverted CarrierDelay WeatherDelay NASDelay SecurityDelay LateAircraftDelay\n",
       "1  0        NA           NA           NA       NA            NA               \n",
       "2  0        NA           NA           NA       NA            NA               \n",
       "3  0        NA           NA           NA       NA            NA               \n",
       "4  0        NA           NA           NA       NA            NA               \n",
       "5  0         2            0            0        0            32               \n",
       "6  0        NA           NA           NA       NA            NA               \n",
       "7  0        10            0            0        0            47               \n",
       "8  0        NA           NA           NA       NA            NA               \n",
       "9  0        NA           NA           NA       NA            NA               \n",
       "10 0        NA           NA           NA       NA            NA               \n",
       "11 0        NA           NA           NA       NA            NA               \n",
       "12 0         8            0            0        0            72               \n",
       "13 0        NA           NA           NA       NA            NA               \n",
       "14 0        NA           NA           NA       NA            NA               \n",
       "15 0        NA           NA           NA       NA            NA               "
      ]
     },
     "metadata": {},
     "output_type": "display_data"
    },
    {
     "data": {
      "text/html": [
       "<ol class=list-inline>\n",
       "\t<li>7009728</li>\n",
       "\t<li>29</li>\n",
       "</ol>\n"
      ],
      "text/latex": [
       "\\begin{enumerate*}\n",
       "\\item 7009728\n",
       "\\item 29\n",
       "\\end{enumerate*}\n"
      ],
      "text/markdown": [
       "1. 7009728\n",
       "2. 29\n",
       "\n",
       "\n"
      ],
      "text/plain": [
       "[1] 7009728      29"
      ]
     },
     "metadata": {},
     "output_type": "display_data"
    }
   ],
   "source": [
    "#Import data\n",
    "data=read.csv(\"../input/2008.csv\")\n",
    "#Menampilkan 6 data pertama\n",
    "head(data[,1:15],15)\n",
    "head(data[,16:ncol(data)],15)\n",
    "dim(data)"
   ]
  },
  {
   "cell_type": "markdown",
   "metadata": {},
   "source": [
    "# 3. Data Exploration"
   ]
  },
  {
   "cell_type": "markdown",
   "metadata": {},
   "source": [
    "### 3.1. Bandara manakah yang memiliki pemesanan terbanyak?"
   ]
  },
  {
   "cell_type": "code",
   "execution_count": 59,
   "metadata": {},
   "outputs": [
    {
     "data": {
      "image/png": "[encoded data removed]"
     },
     "metadata": {},
     "output_type": "display_data"
    }
   ],
   "source": [
    "origin=as.data.frame(table(data$Origin))\n",
    "origin1=origin[order(origin$Freq, decreasing = TRUE),]\n",
    "origin1=origin1[1:9,]\n",
    "\n",
    "p<-ggplot(data=origin1, aes(x = Var1, fill=Var1, y = Freq)) +scale_fill_brewer()+\n",
    "  geom_bar(stat=\"identity\")+geom_text(aes(label=Freq), vjust=-0.3, size=3.5)+\n",
    "  scale_x_discrete(name =\"Origin Airport\")\n",
    "p"
   ]
  },
  {
   "cell_type": "markdown",
   "metadata": {},
   "source": [
    "#### Diatas ditampilkan 9 bandara dg flight terbanyak. Urutan pertama adalah bandara ATL, disusul oleh ORD, DFW, dan seterusnya. Sedangkan yang paling rendah adalah PHX"
   ]
  },
  {
   "cell_type": "markdown",
   "metadata": {},
   "source": [
    "### 3.2. Bulan apa saja penerbangan terbanyak?"
   ]
  },
  {
   "cell_type": "code",
   "execution_count": 60,
   "metadata": {},
   "outputs": [
    {
     "data": {
      "image/png": "[encoded data removed]"
     },
     "metadata": {},
     "output_type": "display_data"
    }
   ],
   "source": [
    "month=as.data.frame(table(data$Month))\n",
    "month1=month[order(month$Freq, decreasing = TRUE),]\n",
    "\n",
    "q<-ggplot(data=month1, aes(x = reorder(Var1, -Freq), y = Freq, fill=Var1)) +\n",
    "  geom_bar(stat=\"identity\")+geom_text(aes(label=Freq), vjust=-0.3, size=3)+\n",
    "  scale_x_discrete(name =\"Month\")\n",
    "q"
   ]
  },
  {
   "cell_type": "markdown",
   "metadata": {},
   "source": [
    "#### Dapat dilihat bahwa bulan Juli merupakan bulan yang memiliki paling banyak pesanan. Diikuti oleh bulan 3, bulan 8, dst. sedangkan bulan 11 adalah bulan dengan pemesanan paling terendah. Namun jika dilihat dengan seksama, tidak ada perbedaan yang bgtu signifikan. Umumnya Penerbangan berada diatas 520rb pemesanan"
   ]
  },
  {
   "cell_type": "markdown",
   "metadata": {},
   "source": [
    "### 3.3. Alasan cancel"
   ]
  },
  {
   "cell_type": "code",
   "execution_count": 61,
   "metadata": {},
   "outputs": [
    {
     "data": {
      "image/png": "[encoded data removed]"
     },
     "metadata": {},
     "output_type": "display_data"
    }
   ],
   "source": [
    "ca=as.data.frame(table(data$CancellationCode))\n",
    "ca1=ca[order(ca$Freq, decreasing = TRUE),]\n",
    "\n",
    "r<-ggplot(data=ca1, aes(x = reorder(Var1, -Freq), y = Freq)) +\n",
    "  geom_bar(stat=\"identity\", fill='blue')+geom_text(aes(label=Freq), vjust=-0.3, size=3.5)+\n",
    "  scale_x_discrete(name =\"Cancellation Code\")\n",
    "r"
   ]
  },
  {
   "cell_type": "markdown",
   "metadata": {},
   "source": [
    "#### Jika Code ' ' dipandang sebagai alasan cancel, berarti alasan tertinggi adalah ' '. Jika Code ' ' diabaikan, maka alasan cancel paling banyak adalah Code B dan Code A"
   ]
  },
  {
   "cell_type": "markdown",
   "metadata": {},
   "source": [
    "# 4. Predictive Modeling\n",
    "## Akan diprediksi berapa menit akan delay.\n",
    "### Yang digunakan adalah delay departure >= 0"
   ]
  },
  {
   "cell_type": "code",
   "execution_count": 62,
   "metadata": {},
   "outputs": [
    {
     "data": {
      "text/html": [
       "<table>\n",
       "<caption>A data.frame: 6 × 15</caption>\n",
       "<thead>\n",
       "\t<tr><th></th><th scope=col>Year</th><th scope=col>Month</th><th scope=col>DayofMonth</th><th scope=col>DayOfWeek</th><th scope=col>DepTime</th><th scope=col>CRSDepTime</th><th scope=col>ArrTime</th><th scope=col>CRSArrTime</th><th scope=col>UniqueCarrier</th><th scope=col>FlightNum</th><th scope=col>TailNum</th><th scope=col>ActualElapsedTime</th><th scope=col>CRSElapsedTime</th><th scope=col>AirTime</th><th scope=col>ArrDelay</th></tr>\n",
       "\t<tr><th></th><th scope=col>&lt;int&gt;</th><th scope=col>&lt;int&gt;</th><th scope=col>&lt;int&gt;</th><th scope=col>&lt;int&gt;</th><th scope=col>&lt;int&gt;</th><th scope=col>&lt;int&gt;</th><th scope=col>&lt;int&gt;</th><th scope=col>&lt;int&gt;</th><th scope=col>&lt;fct&gt;</th><th scope=col>&lt;int&gt;</th><th scope=col>&lt;fct&gt;</th><th scope=col>&lt;int&gt;</th><th scope=col>&lt;int&gt;</th><th scope=col>&lt;int&gt;</th><th scope=col>&lt;int&gt;</th></tr>\n",
       "</thead>\n",
       "<tbody>\n",
       "\t<tr><th scope=row>1</th><td>2008</td><td>1</td><td>3</td><td>4</td><td>2003</td><td>1955</td><td>2211</td><td>2225</td><td>WN</td><td> 335</td><td>N712SW</td><td>128</td><td>150</td><td>116</td><td>-14</td></tr>\n",
       "\t<tr><th scope=row>2</th><td>2008</td><td>1</td><td>3</td><td>4</td><td> 754</td><td> 735</td><td>1002</td><td>1000</td><td>WN</td><td>3231</td><td>N772SW</td><td>128</td><td>145</td><td>113</td><td>  2</td></tr>\n",
       "\t<tr><th scope=row>3</th><td>2008</td><td>1</td><td>3</td><td>4</td><td> 628</td><td> 620</td><td> 804</td><td> 750</td><td>WN</td><td> 448</td><td>N428WN</td><td> 96</td><td> 90</td><td> 76</td><td> 14</td></tr>\n",
       "\t<tr><th scope=row>5</th><td>2008</td><td>1</td><td>3</td><td>4</td><td>1829</td><td>1755</td><td>1959</td><td>1925</td><td>WN</td><td>3920</td><td>N464WN</td><td> 90</td><td> 90</td><td> 77</td><td> 34</td></tr>\n",
       "\t<tr><th scope=row>6</th><td>2008</td><td>1</td><td>3</td><td>4</td><td>1940</td><td>1915</td><td>2121</td><td>2110</td><td>WN</td><td> 378</td><td>N726SW</td><td>101</td><td>115</td><td> 87</td><td> 11</td></tr>\n",
       "\t<tr><th scope=row>7</th><td>2008</td><td>1</td><td>3</td><td>4</td><td>1937</td><td>1830</td><td>2037</td><td>1940</td><td>WN</td><td> 509</td><td>N763SW</td><td>240</td><td>250</td><td>230</td><td> 57</td></tr>\n",
       "</tbody>\n",
       "</table>\n"
      ],
      "text/latex": [
       "A data.frame: 6 × 15\n",
       "\\begin{tabular}{r|lllllllllllllll}\n",
       "  & Year & Month & DayofMonth & DayOfWeek & DepTime & CRSDepTime & ArrTime & CRSArrTime & UniqueCarrier & FlightNum & TailNum & ActualElapsedTime & CRSElapsedTime & AirTime & ArrDelay\\\\\n",
       "  & <int> & <int> & <int> & <int> & <int> & <int> & <int> & <int> & <fct> & <int> & <fct> & <int> & <int> & <int> & <int>\\\\\n",
       "\\hline\n",
       "\t1 & 2008 & 1 & 3 & 4 & 2003 & 1955 & 2211 & 2225 & WN &  335 & N712SW & 128 & 150 & 116 & -14\\\\\n",
       "\t2 & 2008 & 1 & 3 & 4 &  754 &  735 & 1002 & 1000 & WN & 3231 & N772SW & 128 & 145 & 113 &   2\\\\\n",
       "\t3 & 2008 & 1 & 3 & 4 &  628 &  620 &  804 &  750 & WN &  448 & N428WN &  96 &  90 &  76 &  14\\\\\n",
       "\t5 & 2008 & 1 & 3 & 4 & 1829 & 1755 & 1959 & 1925 & WN & 3920 & N464WN &  90 &  90 &  77 &  34\\\\\n",
       "\t6 & 2008 & 1 & 3 & 4 & 1940 & 1915 & 2121 & 2110 & WN &  378 & N726SW & 101 & 115 &  87 &  11\\\\\n",
       "\t7 & 2008 & 1 & 3 & 4 & 1937 & 1830 & 2037 & 1940 & WN &  509 & N763SW & 240 & 250 & 230 &  57\\\\\n",
       "\\end{tabular}\n"
      ],
      "text/markdown": [
       "\n",
       "A data.frame: 6 × 15\n",
       "\n",
       "| <!--/--> | Year &lt;int&gt; | Month &lt;int&gt; | DayofMonth &lt;int&gt; | DayOfWeek &lt;int&gt; | DepTime &lt;int&gt; | CRSDepTime &lt;int&gt; | ArrTime &lt;int&gt; | CRSArrTime &lt;int&gt; | UniqueCarrier &lt;fct&gt; | FlightNum &lt;int&gt; | TailNum &lt;fct&gt; | ActualElapsedTime &lt;int&gt; | CRSElapsedTime &lt;int&gt; | AirTime &lt;int&gt; | ArrDelay &lt;int&gt; |\n",
       "|---|---|---|---|---|---|---|---|---|---|---|---|---|---|---|---|\n",
       "| 1 | 2008 | 1 | 3 | 4 | 2003 | 1955 | 2211 | 2225 | WN |  335 | N712SW | 128 | 150 | 116 | -14 |\n",
       "| 2 | 2008 | 1 | 3 | 4 |  754 |  735 | 1002 | 1000 | WN | 3231 | N772SW | 128 | 145 | 113 |   2 |\n",
       "| 3 | 2008 | 1 | 3 | 4 |  628 |  620 |  804 |  750 | WN |  448 | N428WN |  96 |  90 |  76 |  14 |\n",
       "| 5 | 2008 | 1 | 3 | 4 | 1829 | 1755 | 1959 | 1925 | WN | 3920 | N464WN |  90 |  90 |  77 |  34 |\n",
       "| 6 | 2008 | 1 | 3 | 4 | 1940 | 1915 | 2121 | 2110 | WN |  378 | N726SW | 101 | 115 |  87 |  11 |\n",
       "| 7 | 2008 | 1 | 3 | 4 | 1937 | 1830 | 2037 | 1940 | WN |  509 | N763SW | 240 | 250 | 230 |  57 |\n",
       "\n"
      ],
      "text/plain": [
       "  Year Month DayofMonth DayOfWeek DepTime CRSDepTime ArrTime CRSArrTime\n",
       "1 2008 1     3          4         2003    1955       2211    2225      \n",
       "2 2008 1     3          4          754     735       1002    1000      \n",
       "3 2008 1     3          4          628     620        804     750      \n",
       "5 2008 1     3          4         1829    1755       1959    1925      \n",
       "6 2008 1     3          4         1940    1915       2121    2110      \n",
       "7 2008 1     3          4         1937    1830       2037    1940      \n",
       "  UniqueCarrier FlightNum TailNum ActualElapsedTime CRSElapsedTime AirTime\n",
       "1 WN             335      N712SW  128               150            116    \n",
       "2 WN            3231      N772SW  128               145            113    \n",
       "3 WN             448      N428WN   96                90             76    \n",
       "5 WN            3920      N464WN   90                90             77    \n",
       "6 WN             378      N726SW  101               115             87    \n",
       "7 WN             509      N763SW  240               250            230    \n",
       "  ArrDelay\n",
       "1 -14     \n",
       "2   2     \n",
       "3  14     \n",
       "5  34     \n",
       "6  11     \n",
       "7  57     "
      ]
     },
     "metadata": {},
     "output_type": "display_data"
    },
    {
     "data": {
      "text/html": [
       "<table>\n",
       "<caption>A data.frame: 6 × 14</caption>\n",
       "<thead>\n",
       "\t<tr><th></th><th scope=col>DepDelay</th><th scope=col>Origin</th><th scope=col>Dest</th><th scope=col>Distance</th><th scope=col>TaxiIn</th><th scope=col>TaxiOut</th><th scope=col>Cancelled</th><th scope=col>CancellationCode</th><th scope=col>Diverted</th><th scope=col>CarrierDelay</th><th scope=col>WeatherDelay</th><th scope=col>NASDelay</th><th scope=col>SecurityDelay</th><th scope=col>LateAircraftDelay</th></tr>\n",
       "\t<tr><th></th><th scope=col>&lt;int&gt;</th><th scope=col>&lt;fct&gt;</th><th scope=col>&lt;fct&gt;</th><th scope=col>&lt;int&gt;</th><th scope=col>&lt;int&gt;</th><th scope=col>&lt;int&gt;</th><th scope=col>&lt;int&gt;</th><th scope=col>&lt;fct&gt;</th><th scope=col>&lt;int&gt;</th><th scope=col>&lt;int&gt;</th><th scope=col>&lt;int&gt;</th><th scope=col>&lt;int&gt;</th><th scope=col>&lt;int&gt;</th><th scope=col>&lt;int&gt;</th></tr>\n",
       "</thead>\n",
       "<tbody>\n",
       "\t<tr><th scope=row>1</th><td> 8</td><td>IAD</td><td>TPA</td><td> 810</td><td>4</td><td> 8</td><td>0</td><td></td><td>0</td><td>NA</td><td>NA</td><td>NA</td><td>NA</td><td>NA</td></tr>\n",
       "\t<tr><th scope=row>2</th><td>19</td><td>IAD</td><td>TPA</td><td> 810</td><td>5</td><td>10</td><td>0</td><td></td><td>0</td><td>NA</td><td>NA</td><td>NA</td><td>NA</td><td>NA</td></tr>\n",
       "\t<tr><th scope=row>3</th><td> 8</td><td>IND</td><td>BWI</td><td> 515</td><td>3</td><td>17</td><td>0</td><td></td><td>0</td><td>NA</td><td>NA</td><td>NA</td><td>NA</td><td>NA</td></tr>\n",
       "\t<tr><th scope=row>5</th><td>34</td><td>IND</td><td>BWI</td><td> 515</td><td>3</td><td>10</td><td>0</td><td></td><td>0</td><td> 2</td><td> 0</td><td> 0</td><td> 0</td><td>32</td></tr>\n",
       "\t<tr><th scope=row>6</th><td>25</td><td>IND</td><td>JAX</td><td> 688</td><td>4</td><td>10</td><td>0</td><td></td><td>0</td><td>NA</td><td>NA</td><td>NA</td><td>NA</td><td>NA</td></tr>\n",
       "\t<tr><th scope=row>7</th><td>67</td><td>IND</td><td>LAS</td><td>1591</td><td>3</td><td> 7</td><td>0</td><td></td><td>0</td><td>10</td><td> 0</td><td> 0</td><td> 0</td><td>47</td></tr>\n",
       "</tbody>\n",
       "</table>\n"
      ],
      "text/latex": [
       "A data.frame: 6 × 14\n",
       "\\begin{tabular}{r|llllllllllllll}\n",
       "  & DepDelay & Origin & Dest & Distance & TaxiIn & TaxiOut & Cancelled & CancellationCode & Diverted & CarrierDelay & WeatherDelay & NASDelay & SecurityDelay & LateAircraftDelay\\\\\n",
       "  & <int> & <fct> & <fct> & <int> & <int> & <int> & <int> & <fct> & <int> & <int> & <int> & <int> & <int> & <int>\\\\\n",
       "\\hline\n",
       "\t1 &  8 & IAD & TPA &  810 & 4 &  8 & 0 &  & 0 & NA & NA & NA & NA & NA\\\\\n",
       "\t2 & 19 & IAD & TPA &  810 & 5 & 10 & 0 &  & 0 & NA & NA & NA & NA & NA\\\\\n",
       "\t3 &  8 & IND & BWI &  515 & 3 & 17 & 0 &  & 0 & NA & NA & NA & NA & NA\\\\\n",
       "\t5 & 34 & IND & BWI &  515 & 3 & 10 & 0 &  & 0 &  2 &  0 &  0 &  0 & 32\\\\\n",
       "\t6 & 25 & IND & JAX &  688 & 4 & 10 & 0 &  & 0 & NA & NA & NA & NA & NA\\\\\n",
       "\t7 & 67 & IND & LAS & 1591 & 3 &  7 & 0 &  & 0 & 10 &  0 &  0 &  0 & 47\\\\\n",
       "\\end{tabular}\n"
      ],
      "text/markdown": [
       "\n",
       "A data.frame: 6 × 14\n",
       "\n",
       "| <!--/--> | DepDelay &lt;int&gt; | Origin &lt;fct&gt; | Dest &lt;fct&gt; | Distance &lt;int&gt; | TaxiIn &lt;int&gt; | TaxiOut &lt;int&gt; | Cancelled &lt;int&gt; | CancellationCode &lt;fct&gt; | Diverted &lt;int&gt; | CarrierDelay &lt;int&gt; | WeatherDelay &lt;int&gt; | NASDelay &lt;int&gt; | SecurityDelay &lt;int&gt; | LateAircraftDelay &lt;int&gt; |\n",
       "|---|---|---|---|---|---|---|---|---|---|---|---|---|---|---|\n",
       "| 1 |  8 | IAD | TPA |  810 | 4 |  8 | 0 | <!----> | 0 | NA | NA | NA | NA | NA |\n",
       "| 2 | 19 | IAD | TPA |  810 | 5 | 10 | 0 | <!----> | 0 | NA | NA | NA | NA | NA |\n",
       "| 3 |  8 | IND | BWI |  515 | 3 | 17 | 0 | <!----> | 0 | NA | NA | NA | NA | NA |\n",
       "| 5 | 34 | IND | BWI |  515 | 3 | 10 | 0 | <!----> | 0 |  2 |  0 |  0 |  0 | 32 |\n",
       "| 6 | 25 | IND | JAX |  688 | 4 | 10 | 0 | <!----> | 0 | NA | NA | NA | NA | NA |\n",
       "| 7 | 67 | IND | LAS | 1591 | 3 |  7 | 0 | <!----> | 0 | 10 |  0 |  0 |  0 | 47 |\n",
       "\n"
      ],
      "text/plain": [
       "  DepDelay Origin Dest Distance TaxiIn TaxiOut Cancelled CancellationCode\n",
       "1  8       IAD    TPA   810     4       8      0                         \n",
       "2 19       IAD    TPA   810     5      10      0                         \n",
       "3  8       IND    BWI   515     3      17      0                         \n",
       "5 34       IND    BWI   515     3      10      0                         \n",
       "6 25       IND    JAX   688     4      10      0                         \n",
       "7 67       IND    LAS  1591     3       7      0                         \n",
       "  Diverted CarrierDelay WeatherDelay NASDelay SecurityDelay LateAircraftDelay\n",
       "1 0        NA           NA           NA       NA            NA               \n",
       "2 0        NA           NA           NA       NA            NA               \n",
       "3 0        NA           NA           NA       NA            NA               \n",
       "5 0         2            0            0        0            32               \n",
       "6 0        NA           NA           NA       NA            NA               \n",
       "7 0        10            0            0        0            47               "
      ]
     },
     "metadata": {},
     "output_type": "display_data"
    }
   ],
   "source": [
    "data.new=data[ which(data$DepDelay >= 0),]\n",
    "head(data.new[,1:15])\n",
    "head(data.new[,16:ncol(data.new)])"
   ]
  },
  {
   "cell_type": "markdown",
   "metadata": {},
   "source": [
    "#### Mengambil variable numeric saja utk pemodelan"
   ]
  },
  {
   "cell_type": "code",
   "execution_count": 63,
   "metadata": {},
   "outputs": [
    {
     "name": "stdout",
     "output_type": "stream",
     "text": [
      "'data.frame':\t3231406 obs. of  24 variables:\n",
      " $ Year             : int  2008 2008 2008 2008 2008 2008 2008 2008 2008 2008 ...\n",
      " $ Month            : int  1 1 1 1 1 1 1 1 1 1 ...\n",
      " $ DayofMonth       : int  3 3 3 3 3 3 3 3 3 3 ...\n",
      " $ DayOfWeek        : int  4 4 4 4 4 4 4 4 4 4 ...\n",
      " $ DepTime          : int  2003 754 628 1829 1940 1937 617 1620 706 1644 ...\n",
      " $ CRSDepTime       : int  1955 735 620 1755 1915 1830 615 1620 700 1510 ...\n",
      " $ ArrTime          : int  2211 1002 804 1959 2121 2037 652 1639 916 1845 ...\n",
      " $ CRSArrTime       : int  2225 1000 750 1925 2110 1940 650 1655 915 1725 ...\n",
      " $ FlightNum        : int  335 3231 448 3920 378 509 11 810 100 1333 ...\n",
      " $ ActualElapsedTime: int  128 128 96 90 101 240 95 79 130 121 ...\n",
      " $ CRSElapsedTime   : int  150 145 90 90 115 250 95 95 135 135 ...\n",
      " $ AirTime          : int  116 113 76 77 87 230 70 70 106 107 ...\n",
      " $ ArrDelay         : int  -14 2 14 34 11 57 2 -16 1 80 ...\n",
      " $ DepDelay         : int  8 19 8 34 25 67 2 0 6 94 ...\n",
      " $ Distance         : int  810 810 515 515 688 1591 451 451 828 828 ...\n",
      " $ TaxiIn           : int  4 5 3 3 4 3 6 3 5 6 ...\n",
      " $ TaxiOut          : int  8 10 17 10 10 7 19 6 19 8 ...\n",
      " $ Cancelled        : int  0 0 0 0 0 0 0 0 0 0 ...\n",
      " $ Diverted         : int  0 0 0 0 0 0 0 0 0 0 ...\n",
      " $ CarrierDelay     : int  NA NA NA 2 NA 10 NA NA NA 8 ...\n",
      " $ WeatherDelay     : int  NA NA NA 0 NA 0 NA NA NA 0 ...\n",
      " $ NASDelay         : int  NA NA NA 0 NA 0 NA NA NA 0 ...\n",
      " $ SecurityDelay    : int  NA NA NA 0 NA 0 NA NA NA 0 ...\n",
      " $ LateAircraftDelay: int  NA NA NA 32 NA 47 NA NA NA 72 ...\n"
     ]
    },
    {
     "data": {
      "text/html": [
       "<dl class=dl-horizontal>\n",
       "\t<dt>Year</dt>\n",
       "\t\t<dd>0</dd>\n",
       "\t<dt>Month</dt>\n",
       "\t\t<dd>0</dd>\n",
       "\t<dt>DayofMonth</dt>\n",
       "\t\t<dd>0</dd>\n",
       "\t<dt>DayOfWeek</dt>\n",
       "\t\t<dd>0</dd>\n",
       "\t<dt>DepTime</dt>\n",
       "\t\t<dd>0</dd>\n",
       "\t<dt>CRSDepTime</dt>\n",
       "\t\t<dd>0</dd>\n",
       "\t<dt>ArrTime</dt>\n",
       "\t\t<dd>10056</dd>\n",
       "\t<dt>CRSArrTime</dt>\n",
       "\t\t<dd>0</dd>\n",
       "\t<dt>FlightNum</dt>\n",
       "\t\t<dd>0</dd>\n",
       "\t<dt>ActualElapsedTime</dt>\n",
       "\t\t<dd>11856</dd>\n",
       "\t<dt>CRSElapsedTime</dt>\n",
       "\t\t<dd>277</dd>\n",
       "\t<dt>AirTime</dt>\n",
       "\t\t<dd>11856</dd>\n",
       "\t<dt>ArrDelay</dt>\n",
       "\t\t<dd>11856</dd>\n",
       "\t<dt>DepDelay</dt>\n",
       "\t\t<dd>0</dd>\n",
       "\t<dt>Distance</dt>\n",
       "\t\t<dd>0</dd>\n",
       "\t<dt>TaxiIn</dt>\n",
       "\t\t<dd>10056</dd>\n",
       "\t<dt>TaxiOut</dt>\n",
       "\t\t<dd>542</dd>\n",
       "\t<dt>Cancelled</dt>\n",
       "\t\t<dd>0</dd>\n",
       "\t<dt>Diverted</dt>\n",
       "\t\t<dd>0</dd>\n",
       "\t<dt>CarrierDelay</dt>\n",
       "\t\t<dd>1867480</dd>\n",
       "\t<dt>WeatherDelay</dt>\n",
       "\t\t<dd>1867480</dd>\n",
       "\t<dt>NASDelay</dt>\n",
       "\t\t<dd>1867480</dd>\n",
       "\t<dt>SecurityDelay</dt>\n",
       "\t\t<dd>1867480</dd>\n",
       "\t<dt>LateAircraftDelay</dt>\n",
       "\t\t<dd>1867480</dd>\n",
       "</dl>\n"
      ],
      "text/latex": [
       "\\begin{description*}\n",
       "\\item[Year] 0\n",
       "\\item[Month] 0\n",
       "\\item[DayofMonth] 0\n",
       "\\item[DayOfWeek] 0\n",
       "\\item[DepTime] 0\n",
       "\\item[CRSDepTime] 0\n",
       "\\item[ArrTime] 10056\n",
       "\\item[CRSArrTime] 0\n",
       "\\item[FlightNum] 0\n",
       "\\item[ActualElapsedTime] 11856\n",
       "\\item[CRSElapsedTime] 277\n",
       "\\item[AirTime] 11856\n",
       "\\item[ArrDelay] 11856\n",
       "\\item[DepDelay] 0\n",
       "\\item[Distance] 0\n",
       "\\item[TaxiIn] 10056\n",
       "\\item[TaxiOut] 542\n",
       "\\item[Cancelled] 0\n",
       "\\item[Diverted] 0\n",
       "\\item[CarrierDelay] 1867480\n",
       "\\item[WeatherDelay] 1867480\n",
       "\\item[NASDelay] 1867480\n",
       "\\item[SecurityDelay] 1867480\n",
       "\\item[LateAircraftDelay] 1867480\n",
       "\\end{description*}\n"
      ],
      "text/markdown": [
       "Year\n",
       ":   0Month\n",
       ":   0DayofMonth\n",
       ":   0DayOfWeek\n",
       ":   0DepTime\n",
       ":   0CRSDepTime\n",
       ":   0ArrTime\n",
       ":   10056CRSArrTime\n",
       ":   0FlightNum\n",
       ":   0ActualElapsedTime\n",
       ":   11856CRSElapsedTime\n",
       ":   277AirTime\n",
       ":   11856ArrDelay\n",
       ":   11856DepDelay\n",
       ":   0Distance\n",
       ":   0TaxiIn\n",
       ":   10056TaxiOut\n",
       ":   542Cancelled\n",
       ":   0Diverted\n",
       ":   0CarrierDelay\n",
       ":   1867480WeatherDelay\n",
       ":   1867480NASDelay\n",
       ":   1867480SecurityDelay\n",
       ":   1867480LateAircraftDelay\n",
       ":   1867480\n",
       "\n"
      ],
      "text/plain": [
       "             Year             Month        DayofMonth         DayOfWeek \n",
       "                0                 0                 0                 0 \n",
       "          DepTime        CRSDepTime           ArrTime        CRSArrTime \n",
       "                0                 0             10056                 0 \n",
       "        FlightNum ActualElapsedTime    CRSElapsedTime           AirTime \n",
       "                0             11856               277             11856 \n",
       "         ArrDelay          DepDelay          Distance            TaxiIn \n",
       "            11856                 0                 0             10056 \n",
       "          TaxiOut         Cancelled          Diverted      CarrierDelay \n",
       "              542                 0                 0           1867480 \n",
       "     WeatherDelay          NASDelay     SecurityDelay LateAircraftDelay \n",
       "          1867480           1867480           1867480           1867480 "
      ]
     },
     "metadata": {},
     "output_type": "display_data"
    }
   ],
   "source": [
    "data.new2=dplyr::select_if(data.new, is.numeric)\n",
    "str(data.new2)\n",
    "#memeriksa missing value\n",
    "colSums(is.na(data.new2))"
   ]
  },
  {
   "cell_type": "markdown",
   "metadata": {},
   "source": [
    "#### Membuang Missing value berdasarkan variable CarrierDelay"
   ]
  },
  {
   "cell_type": "code",
   "execution_count": 68,
   "metadata": {},
   "outputs": [
    {
     "data": {
      "text/html": [
       "<ol class=list-inline>\n",
       "\t<li>1363926</li>\n",
       "\t<li>24</li>\n",
       "</ol>\n"
      ],
      "text/latex": [
       "\\begin{enumerate*}\n",
       "\\item 1363926\n",
       "\\item 24\n",
       "\\end{enumerate*}\n"
      ],
      "text/markdown": [
       "1. 1363926\n",
       "2. 24\n",
       "\n",
       "\n"
      ],
      "text/plain": [
       "[1] 1363926      24"
      ]
     },
     "metadata": {},
     "output_type": "display_data"
    },
    {
     "data": {
      "text/html": [
       "<dl class=dl-horizontal>\n",
       "\t<dt>Year</dt>\n",
       "\t\t<dd>0</dd>\n",
       "\t<dt>Month</dt>\n",
       "\t\t<dd>0</dd>\n",
       "\t<dt>DayofMonth</dt>\n",
       "\t\t<dd>0</dd>\n",
       "\t<dt>DayOfWeek</dt>\n",
       "\t\t<dd>0</dd>\n",
       "\t<dt>DepTime</dt>\n",
       "\t\t<dd>0</dd>\n",
       "\t<dt>CRSDepTime</dt>\n",
       "\t\t<dd>0</dd>\n",
       "\t<dt>ArrTime</dt>\n",
       "\t\t<dd>0</dd>\n",
       "\t<dt>CRSArrTime</dt>\n",
       "\t\t<dd>0</dd>\n",
       "\t<dt>FlightNum</dt>\n",
       "\t\t<dd>0</dd>\n",
       "\t<dt>ActualElapsedTime</dt>\n",
       "\t\t<dd>0</dd>\n",
       "\t<dt>CRSElapsedTime</dt>\n",
       "\t\t<dd>0</dd>\n",
       "\t<dt>AirTime</dt>\n",
       "\t\t<dd>0</dd>\n",
       "\t<dt>ArrDelay</dt>\n",
       "\t\t<dd>0</dd>\n",
       "\t<dt>DepDelay</dt>\n",
       "\t\t<dd>0</dd>\n",
       "\t<dt>Distance</dt>\n",
       "\t\t<dd>0</dd>\n",
       "\t<dt>TaxiIn</dt>\n",
       "\t\t<dd>0</dd>\n",
       "\t<dt>TaxiOut</dt>\n",
       "\t\t<dd>0</dd>\n",
       "\t<dt>Cancelled</dt>\n",
       "\t\t<dd>0</dd>\n",
       "\t<dt>Diverted</dt>\n",
       "\t\t<dd>0</dd>\n",
       "\t<dt>CarrierDelay</dt>\n",
       "\t\t<dd>0</dd>\n",
       "\t<dt>WeatherDelay</dt>\n",
       "\t\t<dd>0</dd>\n",
       "\t<dt>NASDelay</dt>\n",
       "\t\t<dd>0</dd>\n",
       "\t<dt>SecurityDelay</dt>\n",
       "\t\t<dd>0</dd>\n",
       "\t<dt>LateAircraftDelay</dt>\n",
       "\t\t<dd>0</dd>\n",
       "</dl>\n"
      ],
      "text/latex": [
       "\\begin{description*}\n",
       "\\item[Year] 0\n",
       "\\item[Month] 0\n",
       "\\item[DayofMonth] 0\n",
       "\\item[DayOfWeek] 0\n",
       "\\item[DepTime] 0\n",
       "\\item[CRSDepTime] 0\n",
       "\\item[ArrTime] 0\n",
       "\\item[CRSArrTime] 0\n",
       "\\item[FlightNum] 0\n",
       "\\item[ActualElapsedTime] 0\n",
       "\\item[CRSElapsedTime] 0\n",
       "\\item[AirTime] 0\n",
       "\\item[ArrDelay] 0\n",
       "\\item[DepDelay] 0\n",
       "\\item[Distance] 0\n",
       "\\item[TaxiIn] 0\n",
       "\\item[TaxiOut] 0\n",
       "\\item[Cancelled] 0\n",
       "\\item[Diverted] 0\n",
       "\\item[CarrierDelay] 0\n",
       "\\item[WeatherDelay] 0\n",
       "\\item[NASDelay] 0\n",
       "\\item[SecurityDelay] 0\n",
       "\\item[LateAircraftDelay] 0\n",
       "\\end{description*}\n"
      ],
      "text/markdown": [
       "Year\n",
       ":   0Month\n",
       ":   0DayofMonth\n",
       ":   0DayOfWeek\n",
       ":   0DepTime\n",
       ":   0CRSDepTime\n",
       ":   0ArrTime\n",
       ":   0CRSArrTime\n",
       ":   0FlightNum\n",
       ":   0ActualElapsedTime\n",
       ":   0CRSElapsedTime\n",
       ":   0AirTime\n",
       ":   0ArrDelay\n",
       ":   0DepDelay\n",
       ":   0Distance\n",
       ":   0TaxiIn\n",
       ":   0TaxiOut\n",
       ":   0Cancelled\n",
       ":   0Diverted\n",
       ":   0CarrierDelay\n",
       ":   0WeatherDelay\n",
       ":   0NASDelay\n",
       ":   0SecurityDelay\n",
       ":   0LateAircraftDelay\n",
       ":   0\n",
       "\n"
      ],
      "text/plain": [
       "             Year             Month        DayofMonth         DayOfWeek \n",
       "                0                 0                 0                 0 \n",
       "          DepTime        CRSDepTime           ArrTime        CRSArrTime \n",
       "                0                 0                 0                 0 \n",
       "        FlightNum ActualElapsedTime    CRSElapsedTime           AirTime \n",
       "                0                 0                 0                 0 \n",
       "         ArrDelay          DepDelay          Distance            TaxiIn \n",
       "                0                 0                 0                 0 \n",
       "          TaxiOut         Cancelled          Diverted      CarrierDelay \n",
       "                0                 0                 0                 0 \n",
       "     WeatherDelay          NASDelay     SecurityDelay LateAircraftDelay \n",
       "                0                 0                 0                 0 "
      ]
     },
     "metadata": {},
     "output_type": "display_data"
    },
    {
     "name": "stdout",
     "output_type": "stream",
     "text": [
      "'data.frame':\t1363926 obs. of  20 variables:\n",
      " $ DepTime          : int  1829 1937 1644 1452 1323 1416 1657 1422 2107 1812 ...\n",
      " $ CRSDepTime       : int  1755 1830 1510 1425 1255 1325 1625 1255 1945 1650 ...\n",
      " $ ArrTime          : int  1959 2037 1845 1640 1526 1512 1754 1657 2334 1927 ...\n",
      " $ CRSArrTime       : int  1925 1940 1725 1625 1510 1435 1735 1610 2230 1815 ...\n",
      " $ FlightNum        : int  3920 509 1333 675 4 54 623 188 362 422 ...\n",
      " $ ActualElapsedTime: int  90 240 121 228 123 56 57 155 147 135 ...\n",
      " $ CRSElapsedTime   : int  90 250 135 240 135 70 70 195 165 145 ...\n",
      " $ AirTime          : int  77 230 107 213 110 49 47 143 134 118 ...\n",
      " $ ArrDelay         : int  34 57 80 15 16 37 19 47 64 72 ...\n",
      " $ Distance         : int  515 1591 828 1489 838 220 220 1093 972 765 ...\n",
      " $ TaxiIn           : int  3 3 6 7 4 2 5 6 6 6 ...\n",
      " $ TaxiOut          : int  10 7 8 8 9 5 5 6 7 11 ...\n",
      " $ Cancelled        : int  0 0 0 0 0 0 0 0 0 0 ...\n",
      " $ Diverted         : int  0 0 0 0 0 0 0 0 0 0 ...\n",
      " $ CarrierDelay     : int  2 10 8 3 0 12 7 40 5 3 ...\n",
      " $ WeatherDelay     : int  0 0 0 0 0 0 0 0 0 0 ...\n",
      " $ NASDelay         : int  0 0 0 0 0 0 0 0 0 0 ...\n",
      " $ SecurityDelay    : int  0 0 0 0 0 0 0 0 0 0 ...\n",
      " $ LateAircraftDelay: int  32 47 72 12 16 25 12 7 59 69 ...\n",
      " $ y                : int  34 67 94 27 28 51 32 87 82 82 ...\n"
     ]
    }
   ],
   "source": [
    "data.new3<-subset(data.new2, (!is.na(data.new2$CarrierDelay)))\n",
    "dim(data.new3)\n",
    "colSums(is.na(data.new3))\n",
    "data.model=data.new3[,-c(1,2,3,4,14)]\n",
    "data.model$y=data.new3[,14]\n",
    "str(data.model)\n"
   ]
  },
  {
   "cell_type": "markdown",
   "metadata": {},
   "source": [
    "## Pemodelan menggunakan Regresi LASSO dengan Cross validation 5 folds.\n",
    "### Regresi LASSO digunakan agar memudahkan dalam seleksi variabel yang tidak signifikan serta membuang variabel yang mengandung multikolinearitas"
   ]
  },
  {
   "cell_type": "code",
   "execution_count": 69,
   "metadata": {},
   "outputs": [
    {
     "data": {
      "text/html": [
       "<ol class=list-inline>\n",
       "\t<li>'DepTime'</li>\n",
       "\t<li>'CRSDepTime'</li>\n",
       "\t<li>'ArrTime'</li>\n",
       "\t<li>'CRSArrTime'</li>\n",
       "\t<li>'FlightNum'</li>\n",
       "\t<li>'ActualElapsedTime'</li>\n",
       "\t<li>'CRSElapsedTime'</li>\n",
       "\t<li>'AirTime'</li>\n",
       "\t<li>'ArrDelay'</li>\n",
       "\t<li>'Distance'</li>\n",
       "\t<li>'TaxiIn'</li>\n",
       "\t<li>'TaxiOut'</li>\n",
       "\t<li>'Cancelled'</li>\n",
       "\t<li>'Diverted'</li>\n",
       "\t<li>'CarrierDelay'</li>\n",
       "\t<li>'WeatherDelay'</li>\n",
       "\t<li>'NASDelay'</li>\n",
       "\t<li>'SecurityDelay'</li>\n",
       "\t<li>'LateAircraftDelay'</li>\n",
       "\t<li>'y'</li>\n",
       "\t<li>'lipat'</li>\n",
       "</ol>\n"
      ],
      "text/latex": [
       "\\begin{enumerate*}\n",
       "\\item 'DepTime'\n",
       "\\item 'CRSDepTime'\n",
       "\\item 'ArrTime'\n",
       "\\item 'CRSArrTime'\n",
       "\\item 'FlightNum'\n",
       "\\item 'ActualElapsedTime'\n",
       "\\item 'CRSElapsedTime'\n",
       "\\item 'AirTime'\n",
       "\\item 'ArrDelay'\n",
       "\\item 'Distance'\n",
       "\\item 'TaxiIn'\n",
       "\\item 'TaxiOut'\n",
       "\\item 'Cancelled'\n",
       "\\item 'Diverted'\n",
       "\\item 'CarrierDelay'\n",
       "\\item 'WeatherDelay'\n",
       "\\item 'NASDelay'\n",
       "\\item 'SecurityDelay'\n",
       "\\item 'LateAircraftDelay'\n",
       "\\item 'y'\n",
       "\\item 'lipat'\n",
       "\\end{enumerate*}\n"
      ],
      "text/markdown": [
       "1. 'DepTime'\n",
       "2. 'CRSDepTime'\n",
       "3. 'ArrTime'\n",
       "4. 'CRSArrTime'\n",
       "5. 'FlightNum'\n",
       "6. 'ActualElapsedTime'\n",
       "7. 'CRSElapsedTime'\n",
       "8. 'AirTime'\n",
       "9. 'ArrDelay'\n",
       "10. 'Distance'\n",
       "11. 'TaxiIn'\n",
       "12. 'TaxiOut'\n",
       "13. 'Cancelled'\n",
       "14. 'Diverted'\n",
       "15. 'CarrierDelay'\n",
       "16. 'WeatherDelay'\n",
       "17. 'NASDelay'\n",
       "18. 'SecurityDelay'\n",
       "19. 'LateAircraftDelay'\n",
       "20. 'y'\n",
       "21. 'lipat'\n",
       "\n",
       "\n"
      ],
      "text/plain": [
       " [1] \"DepTime\"           \"CRSDepTime\"        \"ArrTime\"          \n",
       " [4] \"CRSArrTime\"        \"FlightNum\"         \"ActualElapsedTime\"\n",
       " [7] \"CRSElapsedTime\"    \"AirTime\"           \"ArrDelay\"         \n",
       "[10] \"Distance\"          \"TaxiIn\"            \"TaxiOut\"          \n",
       "[13] \"Cancelled\"         \"Diverted\"          \"CarrierDelay\"     \n",
       "[16] \"WeatherDelay\"      \"NASDelay\"          \"SecurityDelay\"    \n",
       "[19] \"LateAircraftDelay\" \"y\"                 \"lipat\"            "
      ]
     },
     "metadata": {},
     "output_type": "display_data"
    },
    {
     "data": {
      "text/plain": [
       "\n",
       "     1      2      3      4      5 \n",
       "272786 272785 272785 272785 272785 "
      ]
     },
     "metadata": {},
     "output_type": "display_data"
    }
   ],
   "source": [
    "#acak data\n",
    "set.seed(1001)\n",
    "data=data.model[sample(1:nrow(data.model)),]\n",
    "\n",
    "k=5\n",
    "set.seed(1001)\n",
    "data$lipat=cut(seq(1,nrow(data)),breaks = k,labels = FALSE)\n",
    "names(data)\n",
    "table(data$lipat)\n",
    "hasil=NULL\n",
    "for (i in 1:k) {\n",
    "  train=data[data$lipat!=i,]\n",
    "  test=data[data$lipat==i,]\n",
    "  #lambda\n",
    "  CV=cv.glmnet(x=as.matrix(train[,1:(ncol(train)-2)]), y=train$y,\n",
    "               nlambda=100, alpha=1)\n",
    "  #lasso dg lambda minimum\n",
    "  fit=glmnet(x=as.matrix(train[,1:(ncol(train)-2)]), y=train$y, \n",
    "             lambda = CV$lambda.min, alpha = 1)\n",
    "  #prediksi Y duga\n",
    "  lasso.pred=predict(fit, newx = as.matrix(test[,1:(ncol(test)-2)]))\n",
    "  #RMSEP\n",
    "  mse=mean((lasso.pred-test$y)^2)\n",
    "  #korelasi Y dg Y duga\n",
    "  korelasi=cor(lasso.pred,test$y)\n",
    "  \n",
    "  p=data.frame(mse=mse,korelasi=korelasi)\n",
    "  hasil=rbind(hasil,p)\n",
    "}\n",
    "mse=mean(hasil$mse)\n",
    "korelasi=mean(hasil$korelasi)\n"
   ]
  },
  {
   "cell_type": "markdown",
   "metadata": {},
   "source": [
    "#### Kriteria Kebaikan Model untuk Prediksi dengan MSE dan Korelasi"
   ]
  },
  {
   "cell_type": "code",
   "execution_count": 70,
   "metadata": {},
   "outputs": [
    {
     "name": "stdout",
     "output_type": "stream",
     "text": [
      "[1] \"MSE     : 2.83739395261515\"\n",
      "[1] \"Korelasi: 0.999635489749073\"\n"
     ]
    }
   ],
   "source": [
    "print(paste0(\"MSE     : \", mse))\n",
    "print(paste0(\"Korelasi: \", korelasi))"
   ]
  },
  {
   "cell_type": "markdown",
   "metadata": {},
   "source": [
    "#### Dari hasil dapat dilihat MSE bernilai 2.84,  merupakan nilai error yang kecil. Serta Korelasi antara nilai aktual dengan prediksi yang tinggi 0.99 . Dengan Demikian Model ini bagus digunakan untuk memprediksi berapa menit delay keberangkatan pesawat"
   ]
  },
  {
   "cell_type": "markdown",
   "metadata": {},
   "source": [
    "### Selanjutnya akan dilihat Variabel mana saja yang signifikan terhadap model"
   ]
  },
  {
   "cell_type": "code",
   "execution_count": 71,
   "metadata": {},
   "outputs": [
    {
     "data": {
      "image/png": "[encoded data removed]"
     },
     "metadata": {},
     "output_type": "display_data"
    }
   ],
   "source": [
    "#regresi lasso#\n",
    "library(glmnet)\n",
    "set.seed(1001)\n",
    "\n",
    "#mencari lambda\n",
    "CV=cv.glmnet(x=as.matrix(data.model[,-ncol(data.model)]), y=data.model$y,\n",
    "             nlambda=100, alpha=1)\n",
    "plot(CV)\n",
    "\n",
    "#lasso dg lambda minimum\n",
    "fit=glmnet(x=as.matrix(data.model[,-ncol(data.model)]), y=data.model$y, \n",
    "           lambda = CV$lambda.min, alpha = 1)\n"
   ]
  },
  {
   "cell_type": "code",
   "execution_count": 72,
   "metadata": {},
   "outputs": [
    {
     "data": {
      "text/html": [
       "<table>\n",
       "<caption>A data.frame: 10 × 2</caption>\n",
       "<thead>\n",
       "\t<tr><th scope=col>name</th><th scope=col>coefficient</th></tr>\n",
       "\t<tr><th scope=col>&lt;fct&gt;</th><th scope=col>&lt;dbl&gt;</th></tr>\n",
       "</thead>\n",
       "<tbody>\n",
       "\t<tr><td>(Intercept)      </td><td> 1.8459016761</td></tr>\n",
       "\t<tr><td>DepTime          </td><td> 0.0001839566</td></tr>\n",
       "\t<tr><td>ActualElapsedTime</td><td>-0.8616692995</td></tr>\n",
       "\t<tr><td>CRSElapsedTime   </td><td> 0.8617036044</td></tr>\n",
       "\t<tr><td>ArrDelay         </td><td> 0.9947821767</td></tr>\n",
       "\t<tr><td>TaxiIn           </td><td>-0.0747279372</td></tr>\n",
       "\t<tr><td>TaxiOut          </td><td>-0.0942475404</td></tr>\n",
       "\t<tr><td>CarrierDelay     </td><td> 0.0033710878</td></tr>\n",
       "\t<tr><td>NASDelay         </td><td>-0.0085928840</td></tr>\n",
       "\t<tr><td>LateAircraftDelay</td><td> 0.0043350882</td></tr>\n",
       "</tbody>\n",
       "</table>\n"
      ],
      "text/latex": [
       "A data.frame: 10 × 2\n",
       "\\begin{tabular}{r|ll}\n",
       " name & coefficient\\\\\n",
       " <fct> & <dbl>\\\\\n",
       "\\hline\n",
       "\t (Intercept)       &  1.8459016761\\\\\n",
       "\t DepTime           &  0.0001839566\\\\\n",
       "\t ActualElapsedTime & -0.8616692995\\\\\n",
       "\t CRSElapsedTime    &  0.8617036044\\\\\n",
       "\t ArrDelay          &  0.9947821767\\\\\n",
       "\t TaxiIn            & -0.0747279372\\\\\n",
       "\t TaxiOut           & -0.0942475404\\\\\n",
       "\t CarrierDelay      &  0.0033710878\\\\\n",
       "\t NASDelay          & -0.0085928840\\\\\n",
       "\t LateAircraftDelay &  0.0043350882\\\\\n",
       "\\end{tabular}\n"
      ],
      "text/markdown": [
       "\n",
       "A data.frame: 10 × 2\n",
       "\n",
       "| name &lt;fct&gt; | coefficient &lt;dbl&gt; |\n",
       "|---|---|\n",
       "| (Intercept)       |  1.8459016761 |\n",
       "| DepTime           |  0.0001839566 |\n",
       "| ActualElapsedTime | -0.8616692995 |\n",
       "| CRSElapsedTime    |  0.8617036044 |\n",
       "| ArrDelay          |  0.9947821767 |\n",
       "| TaxiIn            | -0.0747279372 |\n",
       "| TaxiOut           | -0.0942475404 |\n",
       "| CarrierDelay      |  0.0033710878 |\n",
       "| NASDelay          | -0.0085928840 |\n",
       "| LateAircraftDelay |  0.0043350882 |\n",
       "\n"
      ],
      "text/plain": [
       "   name              coefficient  \n",
       "1  (Intercept)        1.8459016761\n",
       "2  DepTime            0.0001839566\n",
       "3  ActualElapsedTime -0.8616692995\n",
       "4  CRSElapsedTime     0.8617036044\n",
       "5  ArrDelay           0.9947821767\n",
       "6  TaxiIn            -0.0747279372\n",
       "7  TaxiOut           -0.0942475404\n",
       "8  CarrierDelay       0.0033710878\n",
       "9  NASDelay          -0.0085928840\n",
       "10 LateAircraftDelay  0.0043350882"
      ]
     },
     "metadata": {},
     "output_type": "display_data"
    }
   ],
   "source": [
    "tmp_coeffs <- coef(fit, s = \"lambda.min\")\n",
    "varfix=data.frame(name = tmp_coeffs@Dimnames[[1]][tmp_coeffs@i + 1], coefficient = tmp_coeffs@x)\n",
    "varfix"
   ]
  },
  {
   "cell_type": "markdown",
   "metadata": {},
   "source": [
    "#### Variable2 tersebut adalah variable yang signifikan terhadap model serta tidak mengandung multikolinearitas"
   ]
  }
 ],
 "metadata": {
  "kernelspec": {
   "display_name": "R",
   "language": "R",
   "name": "ir"
  },
  "language_info": {
   "codemirror_mode": "r",
   "file_extension": ".r",
   "mimetype": "text/x-r-source",
   "name": "R",
   "pygments_lexer": "r",
   "version": "3.5.1"
  }
 },
 "nbformat": 4,
 "nbformat_minor": 1
}
